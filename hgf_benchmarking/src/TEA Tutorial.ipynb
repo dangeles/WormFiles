{
 "cells": [
  {
   "cell_type": "markdown",
   "metadata": {},
   "source": [
    "# An IPython Introduction to Using TEA for *C. elegans* researchers\n",
    "All of the code below was written by David Angeles-Albores. Should you find any errors, typos, or just have general comments, please contact:\n",
    "\n",
    "dangeles at caltech dt edu\n",
    "\n",
    "The work here was submitted and accepted for publication on ....\n",
    "Please cite XXX if this notebook was useful for you in your research.\n",
    "\n",
    "\n",
    "Please note: I have tried to make this tutorial as complete as possible, with a brief introduction to Pandas dataframes and showing how I typically prepare my dataframes for analysis. Experienced users will want to skip this and go straight to **Calling TEA**. However, this tutorial is by no means a complete introduction to Python or Pandas - in fact, it's more like a super fast crash course. I apologize for this, and in the future I will consider improving the tutorial.\n",
    "\n",
    "### Best of Luck!\n",
    "\n",
    "#### -- David Angeles-Albores"
   ]
  },
  {
   "cell_type": "markdown",
   "metadata": {},
   "source": [
    "# Introduction"
   ]
  },
  {
   "cell_type": "markdown",
   "metadata": {},
   "source": [
    "### What is TEA meant for? \n",
    "\n",
    "TEA is meant to provide straightforward analysis of large gene lists for *C. elegans* researchers.\n",
    "We hope that TEA will function as a hypothesis generator, or alternatively, as a way of understanding the biology behind a dataset.\n",
    "\n",
    "### How is TEA different from GO?\n",
    "Great question. GO is primarily a molecular/cellular ontology, whereas TEA works from TO, the *C. elegans* tissue ontology. I believe tissues are, in some senses, fundamental units in biology. Often, it is the case that tissues, not cells, have been studied for considerably longer time, and as a result we have a better intuition for what the function of a tissue is, as compared to the molecular function of a list of genes. In other words, I think GO analysis and TEA are similar, but my guess is that the results from TEA will be easier to interpret, and as a result easier to use for hypotheiss generation. \n",
    "\n",
    "### What TEA is not:\n",
    "TEA is NOT meant to be used as a quantitative tool! \n",
    "\n",
    "At best, TEA is a very good guess about what tissues are being affected in your dataset. At worst, TEA is a guess about what tissues are being affected in your dataset. TEA is working directly from the WormBase-curated expression dataset. As a result, we have the very best, most up to date annotations in the world. On the other hand, please remember these annotations suffer from bias. For example, the ASE, ASK and ASI neurons have been very well studied and are quite well annotated, but the individual intestinal cells have not been generally well studied! Thus, our annotations are significantly biased by the research community's interests. \n",
    "\n",
    "Please use TEA carefully, and always use it as a guiding tool for your research, and never as the final say on anything. \n",
    "\n",
    "\n",
    "### What do you need to do to run this tool?\n",
    "The gist of the algorithm is:\n",
    "\n",
    "Get your gene list into WBIDs\n",
    "\n",
    "Call our analysis function\n",
    "\n",
    "Call the plotting function\n",
    "\n",
    "Done.\n"
   ]
  },
  {
   "cell_type": "markdown",
   "metadata": {},
   "source": [
    "## Batch users:\n",
    "\n",
    "This script runs on Python > 3.5.\n",
    "\n",
    "Dependencies: scipy (all), pandas, numpy, matplotlib and seaborn\n",
    "\n",
    "Download the **hypergeometricTests** script from my github:\n",
    "\n",
    "https://github.com/dangeles/tissue_enrichment_tool_hypergeometric_test\n",
    "\n",
    "Add it to your PYTHONPATH so you can run it as a module in your python script.\n",
    "\n",
    "Import the module. You may find that the **numpy** and **pandas** modules are also often very useful."
   ]
  },
  {
   "cell_type": "code",
   "execution_count": 24,
   "metadata": {
    "collapsed": false
   },
   "outputs": [],
   "source": [
    "import hypergeometricTests as hgt #the main library for this tutorial\n",
    "import pandas as pd\n",
    "import os\n",
    "import importlib as imp\n",
    "import numpy as np\n",
    "import seaborn as sns\n",
    "import matplotlib.pyplot as plt\n",
    "\n",
    "#to make IPython plot inline, not req'd if you're not working with an Ipython notebook\n",
    "%matplotlib inline \n"
   ]
  },
  {
   "cell_type": "markdown",
   "metadata": {},
   "source": [
    "Now let's import our dataset. Here, I will use a dataset I obtained from **Engelmann et al, 2011 (PLOS One)**.\n",
    "\n",
    "Specifically, this is data from an RNA-seq experiment they performed. Briefly, young adult worms were placed in *Otorhabdus luminescens* bacteria for 24, cleaned and then RNA-seq'ed. "
   ]
  },
  {
   "cell_type": "code",
   "execution_count": 3,
   "metadata": {
    "collapsed": true
   },
   "outputs": [],
   "source": [
    "dfLum= pd.read_csv('../input/luminescens_Engelmann_2011.csv') #Don't forget to change the path in your script!"
   ]
  },
  {
   "cell_type": "markdown",
   "metadata": {},
   "source": [
    "Let's visualize the first five lines of the dataframe to see what's in it"
   ]
  },
  {
   "cell_type": "code",
   "execution_count": 4,
   "metadata": {
    "collapsed": false
   },
   "outputs": [
    {
     "name": "stdout",
     "output_type": "stream",
     "text": [
      "This dataframe has 9 columns and 27322 rows\n"
     ]
    },
    {
     "data": {
      "text/html": [
       "<div>\n",
       "<table border=\"1\" class=\"dataframe\">\n",
       "  <thead>\n",
       "    <tr style=\"text-align: right;\">\n",
       "      <th></th>\n",
       "      <th>GenePublicName</th>\n",
       "      <th>SequenceNameGene</th>\n",
       "      <th>SequenceNameTranscript</th>\n",
       "      <th>PL</th>\n",
       "      <th>OP50</th>\n",
       "      <th>Ratio_PLvsOP50</th>\n",
       "      <th>log2_Ratio_PLvsOP50</th>\n",
       "      <th>Infection_upregulated</th>\n",
       "      <th>Infection_downregulated</th>\n",
       "    </tr>\n",
       "  </thead>\n",
       "  <tbody>\n",
       "    <tr>\n",
       "      <th>0</th>\n",
       "      <td>2L52.1</td>\n",
       "      <td>2L52.1</td>\n",
       "      <td>2L52.1</td>\n",
       "      <td>0,070149</td>\n",
       "      <td>0,082443</td>\n",
       "      <td>0.850873937144</td>\n",
       "      <td>-0.232983</td>\n",
       "      <td>NaN</td>\n",
       "      <td>NaN</td>\n",
       "    </tr>\n",
       "    <tr>\n",
       "      <th>1</th>\n",
       "      <td>2RSSE.1</td>\n",
       "      <td>2RSSE.1</td>\n",
       "      <td>2RSSE.1</td>\n",
       "      <td>0,909365</td>\n",
       "      <td>0,545563</td>\n",
       "      <td>1.666837743762</td>\n",
       "      <td>0.737114</td>\n",
       "      <td>NaN</td>\n",
       "      <td>NaN</td>\n",
       "    </tr>\n",
       "    <tr>\n",
       "      <th>2</th>\n",
       "      <td>2RSSE.2</td>\n",
       "      <td>2RSSE.2</td>\n",
       "      <td>2RSSE.2</td>\n",
       "      <td>0,131488</td>\n",
       "      <td>0,103366</td>\n",
       "      <td>1.272062380280</td>\n",
       "      <td>0.347169</td>\n",
       "      <td>NaN</td>\n",
       "      <td>NaN</td>\n",
       "    </tr>\n",
       "    <tr>\n",
       "      <th>3</th>\n",
       "      <td>3R5.1</td>\n",
       "      <td>3R5.1</td>\n",
       "      <td>3R5.1</td>\n",
       "      <td>0,276022</td>\n",
       "      <td>0,266413</td>\n",
       "      <td>1.036068059742</td>\n",
       "      <td>0.051119</td>\n",
       "      <td>NaN</td>\n",
       "      <td>NaN</td>\n",
       "    </tr>\n",
       "    <tr>\n",
       "      <th>4</th>\n",
       "      <td>nas-6</td>\n",
       "      <td>4R79.1</td>\n",
       "      <td>4R79.1a</td>\n",
       "      <td>0,027335</td>\n",
       "      <td>0,007624</td>\n",
       "      <td>3.585322665268</td>\n",
       "      <td>1.842103</td>\n",
       "      <td>1</td>\n",
       "      <td>NaN</td>\n",
       "    </tr>\n",
       "  </tbody>\n",
       "</table>\n",
       "</div>"
      ],
      "text/plain": [
       "  GenePublicName SequenceNameGene SequenceNameTranscript        PL      OP50  \\\n",
       "0         2L52.1           2L52.1                 2L52.1  0,070149  0,082443   \n",
       "1        2RSSE.1          2RSSE.1                2RSSE.1  0,909365  0,545563   \n",
       "2        2RSSE.2          2RSSE.2                2RSSE.2  0,131488  0,103366   \n",
       "3          3R5.1            3R5.1                  3R5.1  0,276022  0,266413   \n",
       "4          nas-6           4R79.1                4R79.1a  0,027335  0,007624   \n",
       "\n",
       "   Ratio_PLvsOP50  log2_Ratio_PLvsOP50  Infection_upregulated  \\\n",
       "0  0.850873937144            -0.232983                    NaN   \n",
       "1  1.666837743762             0.737114                    NaN   \n",
       "2  1.272062380280             0.347169                    NaN   \n",
       "3  1.036068059742             0.051119                    NaN   \n",
       "4  3.585322665268             1.842103                      1   \n",
       "\n",
       "   Infection_downregulated  \n",
       "0                      NaN  \n",
       "1                      NaN  \n",
       "2                      NaN  \n",
       "3                      NaN  \n",
       "4                      NaN  "
      ]
     },
     "execution_count": 4,
     "metadata": {},
     "output_type": "execute_result"
    }
   ],
   "source": [
    "print('This dataframe has {0} columns and {1} rows'.format(dfLum.shape[1], dfLum.shape[0]))\n",
    "dfLum.head()"
   ]
  },
  {
   "cell_type": "markdown",
   "metadata": {},
   "source": [
    "Ok. Clearly we can see the dataframe has a few different columns. Of particular interest to use are the columns 'Infection_upregulated' and 'Infection_downregulated', since these are the genes they identified as significantly altered by the treatment relative to an OP50 control. Let's analyze the genes that are upregulated first and see what they can do.\n",
    "\n",
    "Before we can analyze anything, notice that they don't list WBIDs anywhere. We need to turn the names into WBIDs before we can continue.\n",
    "\n",
    "To do this, I will load another file containing all the WBID-human readable relationships into a new dataframe called names"
   ]
  },
  {
   "cell_type": "code",
   "execution_count": 5,
   "metadata": {
    "collapsed": true
   },
   "outputs": [],
   "source": [
    "names= pd.read_csv('../input/c_elegans.PRJNA13758.WS241.livegeneIDs.unmaprm.txt', \n",
    "                   sep= '\\t',comment= '#')"
   ]
  },
  {
   "cell_type": "markdown",
   "metadata": {},
   "source": [
    "Let's take a look at it:"
   ]
  },
  {
   "cell_type": "code",
   "execution_count": 6,
   "metadata": {
    "collapsed": false
   },
   "outputs": [
    {
     "name": "stdout",
     "output_type": "stream",
     "text": [
      "The length of this dataframe is:46788\n"
     ]
    },
    {
     "data": {
      "text/html": [
       "<div>\n",
       "<table border=\"1\" class=\"dataframe\">\n",
       "  <thead>\n",
       "    <tr style=\"text-align: right;\">\n",
       "      <th></th>\n",
       "      <th>WBID</th>\n",
       "      <th>HumanReadable</th>\n",
       "      <th>GeneName</th>\n",
       "    </tr>\n",
       "  </thead>\n",
       "  <tbody>\n",
       "    <tr>\n",
       "      <th>0</th>\n",
       "      <td>WBGene00000001</td>\n",
       "      <td>aap-1</td>\n",
       "      <td>Y110A7A.10</td>\n",
       "    </tr>\n",
       "    <tr>\n",
       "      <th>1</th>\n",
       "      <td>WBGene00000002</td>\n",
       "      <td>aat-1</td>\n",
       "      <td>F27C8.1</td>\n",
       "    </tr>\n",
       "    <tr>\n",
       "      <th>2</th>\n",
       "      <td>WBGene00000003</td>\n",
       "      <td>aat-2</td>\n",
       "      <td>F07C3.7</td>\n",
       "    </tr>\n",
       "    <tr>\n",
       "      <th>3</th>\n",
       "      <td>WBGene00000004</td>\n",
       "      <td>aat-3</td>\n",
       "      <td>F52H2.2</td>\n",
       "    </tr>\n",
       "    <tr>\n",
       "      <th>4</th>\n",
       "      <td>WBGene00000005</td>\n",
       "      <td>aat-4</td>\n",
       "      <td>T13A10.10</td>\n",
       "    </tr>\n",
       "  </tbody>\n",
       "</table>\n",
       "</div>"
      ],
      "text/plain": [
       "             WBID HumanReadable    GeneName\n",
       "0  WBGene00000001         aap-1  Y110A7A.10\n",
       "1  WBGene00000002         aat-1     F27C8.1\n",
       "2  WBGene00000003         aat-2     F07C3.7\n",
       "3  WBGene00000004         aat-3     F52H2.2\n",
       "4  WBGene00000005         aat-4   T13A10.10"
      ]
     },
     "execution_count": 6,
     "metadata": {},
     "output_type": "execute_result"
    }
   ],
   "source": [
    "print('The length of this dataframe is:{0}'.format(len(names)))\n",
    "names.head()"
   ]
  },
  {
   "cell_type": "markdown",
   "metadata": {},
   "source": [
    "The Engelmann names look like they are GeneNames.\n",
    "\n",
    "Next, I'm going to generate a lambda function. This function will take a single argument 'x'. 'x' should the be the column containing the names we want to convert into WBIDs. Once we provide 'x', this function will look in the GeneName column of the names dataframe to see whether a particular entry can be found in the GeneName column.\\\n",
    "\n",
    "\n",
    "For every entry it can find, g returns True. Else, it returns False"
   ]
  },
  {
   "cell_type": "code",
   "execution_count": 7,
   "metadata": {
    "collapsed": true
   },
   "outputs": [],
   "source": [
    "g= lambda x: (names.GeneName.isin(x))"
   ]
  },
  {
   "cell_type": "markdown",
   "metadata": {},
   "source": [
    "Let's try our new function out!"
   ]
  },
  {
   "cell_type": "code",
   "execution_count": 29,
   "metadata": {
    "collapsed": false
   },
   "outputs": [
    {
     "name": "stdout",
     "output_type": "stream",
     "text": [
      "0    True\n",
      "1    True\n",
      "2    True\n",
      "3    True\n",
      "4    True\n",
      "Name: GeneName, dtype: bool\n"
     ]
    }
   ],
   "source": [
    "#Remember, dfLum is the dataframe. dfLum['SequenceNameGene'] is the column we want.#\n",
    "#We store the result in a variable called 'translate'\n",
    "translate= g(dfLum['SequenceNameGene'])\n",
    "#I only want to show the first 5 rows, so I'm going to add [0:5] after translate, since 'g' returns a Series object\n",
    "print(translate[0:5])"
   ]
  },
  {
   "cell_type": "markdown",
   "metadata": {},
   "source": [
    "Great! Now we can get the WBIDs by simple indexing:"
   ]
  },
  {
   "cell_type": "code",
   "execution_count": 30,
   "metadata": {
    "collapsed": false
   },
   "outputs": [],
   "source": [
    "wbids= names[translate].WBID # names[translate] gets rows for every gene name that was found by 'translate'\n",
    "#The .WBID after names[] tells the computer to get the WBID colum"
   ]
  },
  {
   "cell_type": "code",
   "execution_count": 33,
   "metadata": {
    "collapsed": false
   },
   "outputs": [
    {
     "name": "stdout",
     "output_type": "stream",
     "text": [
      "wbids has 19702 gene IDS. The original dataframe has 27322 genes\n"
     ]
    },
    {
     "data": {
      "text/plain": [
       "0    WBGene00000001\n",
       "1    WBGene00000002\n",
       "2    WBGene00000003\n",
       "3    WBGene00000004\n",
       "4    WBGene00000005\n",
       "Name: WBID, dtype: object"
      ]
     },
     "execution_count": 33,
     "metadata": {},
     "output_type": "execute_result"
    }
   ],
   "source": [
    "print('wbids has {} gene IDS. The original dataframe has {} genes'.format(len(wbids), dfLum.shape[0]))\n",
    "wbids.head() #let's see what we found"
   ]
  },
  {
   "cell_type": "markdown",
   "metadata": {},
   "source": [
    "Hmmm. We lost quite a few genes. Let's quickly check to make sure those aren't important"
   ]
  },
  {
   "cell_type": "code",
   "execution_count": 44,
   "metadata": {
    "collapsed": false
   },
   "outputs": [
    {
     "data": {
      "text/html": [
       "<div>\n",
       "<table border=\"1\" class=\"dataframe\">\n",
       "  <thead>\n",
       "    <tr style=\"text-align: right;\">\n",
       "      <th></th>\n",
       "      <th>GenePublicName</th>\n",
       "      <th>SequenceNameGene</th>\n",
       "      <th>SequenceNameTranscript</th>\n",
       "      <th>PL</th>\n",
       "      <th>OP50</th>\n",
       "      <th>Ratio_PLvsOP50</th>\n",
       "      <th>log2_Ratio_PLvsOP50</th>\n",
       "      <th>Infection_upregulated</th>\n",
       "      <th>Infection_downregulated</th>\n",
       "    </tr>\n",
       "  </thead>\n",
       "  <tbody>\n",
       "    <tr>\n",
       "      <th>2</th>\n",
       "      <td>2RSSE.2</td>\n",
       "      <td>2RSSE.2</td>\n",
       "      <td>2RSSE.2</td>\n",
       "      <td>0,131488</td>\n",
       "      <td>0,103366</td>\n",
       "      <td>1.272062380280</td>\n",
       "      <td>0.347169</td>\n",
       "      <td>NaN</td>\n",
       "      <td>NaN</td>\n",
       "    </tr>\n",
       "    <tr>\n",
       "      <th>7</th>\n",
       "      <td>6R55.1</td>\n",
       "      <td>6R55.1</td>\n",
       "      <td>6R55.1a</td>\n",
       "      <td>1,6714</td>\n",
       "      <td>1,01709</td>\n",
       "      <td>1.643315734104</td>\n",
       "      <td>0.716610</td>\n",
       "      <td>NaN</td>\n",
       "      <td>NaN</td>\n",
       "    </tr>\n",
       "    <tr>\n",
       "      <th>8</th>\n",
       "      <td>6R55.1</td>\n",
       "      <td>6R55.1</td>\n",
       "      <td>6R55.1b</td>\n",
       "      <td>1,65021</td>\n",
       "      <td>0,955516</td>\n",
       "      <td>1.727035444723</td>\n",
       "      <td>0.788298</td>\n",
       "      <td>NaN</td>\n",
       "      <td>NaN</td>\n",
       "    </tr>\n",
       "    <tr>\n",
       "      <th>197</th>\n",
       "      <td>B0212.6</td>\n",
       "      <td>B0212.6</td>\n",
       "      <td>B0212.6</td>\n",
       "      <td>0,022038</td>\n",
       "      <td>0,007345</td>\n",
       "      <td>3.000381211709</td>\n",
       "      <td>1.585146</td>\n",
       "      <td>NaN</td>\n",
       "      <td>NaN</td>\n",
       "    </tr>\n",
       "    <tr>\n",
       "      <th>416</th>\n",
       "      <td>B0310.4</td>\n",
       "      <td>B0310.4</td>\n",
       "      <td>B0310.4</td>\n",
       "      <td>0</td>\n",
       "      <td>0</td>\n",
       "      <td>NaN</td>\n",
       "      <td>NaN</td>\n",
       "      <td>NaN</td>\n",
       "      <td>NaN</td>\n",
       "    </tr>\n",
       "  </tbody>\n",
       "</table>\n",
       "</div>"
      ],
      "text/plain": [
       "    GenePublicName SequenceNameGene SequenceNameTranscript        PL  \\\n",
       "2          2RSSE.2          2RSSE.2                2RSSE.2  0,131488   \n",
       "7           6R55.1           6R55.1                6R55.1a    1,6714   \n",
       "8           6R55.1           6R55.1                6R55.1b   1,65021   \n",
       "197        B0212.6          B0212.6                B0212.6  0,022038   \n",
       "416        B0310.4          B0310.4                B0310.4         0   \n",
       "\n",
       "         OP50  Ratio_PLvsOP50  log2_Ratio_PLvsOP50  Infection_upregulated  \\\n",
       "2    0,103366  1.272062380280             0.347169                    NaN   \n",
       "7     1,01709  1.643315734104             0.716610                    NaN   \n",
       "8    0,955516  1.727035444723             0.788298                    NaN   \n",
       "197  0,007345  3.000381211709             1.585146                    NaN   \n",
       "416         0             NaN                  NaN                    NaN   \n",
       "\n",
       "     Infection_downregulated  \n",
       "2                        NaN  \n",
       "7                        NaN  \n",
       "8                        NaN  \n",
       "197                      NaN  \n",
       "416                      NaN  "
      ]
     },
     "execution_count": 44,
     "metadata": {},
     "output_type": "execute_result"
    }
   ],
   "source": [
    "not_found= dfLum[~dfLum.SequenceNameGene.isin(names[translate].GeneName)]\n",
    "not_found.head()"
   ]
  },
  {
   "cell_type": "markdown",
   "metadata": {},
   "source": [
    "A quick search in WormBase shows that these genes have been merged into other genes. Hmmmm.. This could be a problem. \n",
    "\n",
    "To figure out if it really is a problem, let's look at how many of those genes are upregulated during infection."
   ]
  },
  {
   "cell_type": "code",
   "execution_count": 54,
   "metadata": {
    "collapsed": false
   },
   "outputs": [
    {
     "name": "stdout",
     "output_type": "stream",
     "text": [
      "There are 3613 upregulated genes, of which 52 can't be found in the names dictionary\n",
      "0.014% could not be found\n"
     ]
    }
   ],
   "source": [
    "print('There are {0} upregulated genes, of which {1} can\\'t be found in the names dictionary'.format(\n",
    "      dfLum[dfLum.Infection_upregulated == 1].shape[0], not_found[not_found.Infection_upregulated == 1].shape[0]))\n",
    "\n",
    "\n",
    "print('{0:.2}% could not be found'.format(\n",
    "        not_found[not_found.Infection_upregulated == 1].shape[0]/dfLum[dfLum.Infection_upregulated == 1].shape[0]))"
   ]
  },
  {
   "cell_type": "markdown",
   "metadata": {},
   "source": [
    "Great! So there's almost no loss in our gene name conversion. Now we can go ahead and extract all the IDs that we can find to use for our enrichment analysis"
   ]
  },
  {
   "cell_type": "code",
   "execution_count": 55,
   "metadata": {
    "collapsed": true
   },
   "outputs": [],
   "source": [
    "translate= g(dfLum[dfLum.Infection_upregulated == 1]['SequenceNameGene'])\n",
    "wbids= names[translate].WBID"
   ]
  },
  {
   "cell_type": "code",
   "execution_count": 57,
   "metadata": {
    "collapsed": false
   },
   "outputs": [
    {
     "name": "stdout",
     "output_type": "stream",
     "text": [
      "4     WBGene00000005\n",
      "17    WBGene00000019\n",
      "19    WBGene00000021\n",
      "20    WBGene00000022\n",
      "22    WBGene00000024\n",
      "Name: WBID, dtype: object\n"
     ]
    }
   ],
   "source": [
    "print(wbids.head())"
   ]
  },
  {
   "cell_type": "markdown",
   "metadata": {},
   "source": [
    "See how the list changed from before? Great! Now we can put this into TEA"
   ]
  },
  {
   "cell_type": "markdown",
   "metadata": {},
   "source": [
    "# Calling TEA\n",
    "\n",
    "TEA works by comparing your gene-list to a reference tissue expression ''dictionary''. In order for us to run TEA, we first need to fetch the dictionary. That's done easily enough:"
   ]
  },
  {
   "cell_type": "code",
   "execution_count": 58,
   "metadata": {
    "collapsed": false
   },
   "outputs": [],
   "source": [
    "#tissue_df= fetch_dictionary() #not yet implemented\n",
    "tissue_df= pd.read_csv('../input/WS252AnatomyDictionary/annot25.thresh0.9.methodany.csv')"
   ]
  },
  {
   "cell_type": "code",
   "execution_count": 59,
   "metadata": {
    "collapsed": false
   },
   "outputs": [
    {
     "data": {
      "text/html": [
       "<div>\n",
       "<table border=\"1\" class=\"dataframe\">\n",
       "  <thead>\n",
       "    <tr style=\"text-align: right;\">\n",
       "      <th></th>\n",
       "      <th>wbid</th>\n",
       "      <th>ABalappp WBbt:0006242</th>\n",
       "      <th>ABplppap WBbt:0006028</th>\n",
       "      <th>Psub1 WBbt:0006874</th>\n",
       "      <th>anterior gonad arm WBbt:0005374</th>\n",
       "      <th>AVD WBbt:0006818</th>\n",
       "      <th>P5.ppa WBbt:0007256</th>\n",
       "      <th>P5.pa WBbt:0007252</th>\n",
       "      <th>BDU WBbt:0006826</th>\n",
       "      <th>vulB2 WBbt:0006764</th>\n",
       "      <th>...</th>\n",
       "      <th>AVA WBbt:0005842</th>\n",
       "      <th>AFD WBbt:0005662</th>\n",
       "      <th>digestive tract WBbt:0005743</th>\n",
       "      <th>R6A WBbt:0008395</th>\n",
       "      <th>P9/10L WBbt:0004412</th>\n",
       "      <th>ABarpaapa WBbt:0005844</th>\n",
       "      <th>MSapap WBbt:0006475</th>\n",
       "      <th>P6.pap WBbt:0006990</th>\n",
       "      <th>Epr WBbt:0006547</th>\n",
       "      <th>MSpapap WBbt:0005968</th>\n",
       "    </tr>\n",
       "  </thead>\n",
       "  <tbody>\n",
       "    <tr>\n",
       "      <th>0</th>\n",
       "      <td>WBGene00003688</td>\n",
       "      <td>0</td>\n",
       "      <td>0</td>\n",
       "      <td>0</td>\n",
       "      <td>0</td>\n",
       "      <td>0</td>\n",
       "      <td>0</td>\n",
       "      <td>0</td>\n",
       "      <td>0</td>\n",
       "      <td>0</td>\n",
       "      <td>...</td>\n",
       "      <td>0</td>\n",
       "      <td>0</td>\n",
       "      <td>1</td>\n",
       "      <td>0</td>\n",
       "      <td>0</td>\n",
       "      <td>0</td>\n",
       "      <td>0</td>\n",
       "      <td>0</td>\n",
       "      <td>0</td>\n",
       "      <td>0</td>\n",
       "    </tr>\n",
       "    <tr>\n",
       "      <th>1</th>\n",
       "      <td>WBGene00018446</td>\n",
       "      <td>0</td>\n",
       "      <td>0</td>\n",
       "      <td>0</td>\n",
       "      <td>0</td>\n",
       "      <td>0</td>\n",
       "      <td>0</td>\n",
       "      <td>0</td>\n",
       "      <td>0</td>\n",
       "      <td>0</td>\n",
       "      <td>...</td>\n",
       "      <td>0</td>\n",
       "      <td>0</td>\n",
       "      <td>1</td>\n",
       "      <td>0</td>\n",
       "      <td>0</td>\n",
       "      <td>0</td>\n",
       "      <td>0</td>\n",
       "      <td>0</td>\n",
       "      <td>0</td>\n",
       "      <td>0</td>\n",
       "    </tr>\n",
       "    <tr>\n",
       "      <th>2</th>\n",
       "      <td>WBGene00008405</td>\n",
       "      <td>0</td>\n",
       "      <td>0</td>\n",
       "      <td>0</td>\n",
       "      <td>0</td>\n",
       "      <td>0</td>\n",
       "      <td>0</td>\n",
       "      <td>0</td>\n",
       "      <td>0</td>\n",
       "      <td>0</td>\n",
       "      <td>...</td>\n",
       "      <td>0</td>\n",
       "      <td>0</td>\n",
       "      <td>1</td>\n",
       "      <td>0</td>\n",
       "      <td>0</td>\n",
       "      <td>0</td>\n",
       "      <td>0</td>\n",
       "      <td>0</td>\n",
       "      <td>0</td>\n",
       "      <td>0</td>\n",
       "    </tr>\n",
       "    <tr>\n",
       "      <th>3</th>\n",
       "      <td>WBGene00022296</td>\n",
       "      <td>0</td>\n",
       "      <td>0</td>\n",
       "      <td>0</td>\n",
       "      <td>0</td>\n",
       "      <td>0</td>\n",
       "      <td>0</td>\n",
       "      <td>0</td>\n",
       "      <td>0</td>\n",
       "      <td>0</td>\n",
       "      <td>...</td>\n",
       "      <td>0</td>\n",
       "      <td>0</td>\n",
       "      <td>1</td>\n",
       "      <td>0</td>\n",
       "      <td>0</td>\n",
       "      <td>0</td>\n",
       "      <td>0</td>\n",
       "      <td>0</td>\n",
       "      <td>0</td>\n",
       "      <td>0</td>\n",
       "    </tr>\n",
       "    <tr>\n",
       "      <th>4</th>\n",
       "      <td>WBGene00015312</td>\n",
       "      <td>0</td>\n",
       "      <td>0</td>\n",
       "      <td>0</td>\n",
       "      <td>0</td>\n",
       "      <td>0</td>\n",
       "      <td>0</td>\n",
       "      <td>0</td>\n",
       "      <td>0</td>\n",
       "      <td>0</td>\n",
       "      <td>...</td>\n",
       "      <td>0</td>\n",
       "      <td>0</td>\n",
       "      <td>0</td>\n",
       "      <td>0</td>\n",
       "      <td>0</td>\n",
       "      <td>0</td>\n",
       "      <td>0</td>\n",
       "      <td>0</td>\n",
       "      <td>0</td>\n",
       "      <td>0</td>\n",
       "    </tr>\n",
       "  </tbody>\n",
       "</table>\n",
       "<p>5 rows × 536 columns</p>\n",
       "</div>"
      ],
      "text/plain": [
       "             wbid  ABalappp WBbt:0006242  ABplppap WBbt:0006028  \\\n",
       "0  WBGene00003688                      0                      0   \n",
       "1  WBGene00018446                      0                      0   \n",
       "2  WBGene00008405                      0                      0   \n",
       "3  WBGene00022296                      0                      0   \n",
       "4  WBGene00015312                      0                      0   \n",
       "\n",
       "   Psub1 WBbt:0006874  anterior gonad arm WBbt:0005374  AVD WBbt:0006818  \\\n",
       "0                   0                                0                 0   \n",
       "1                   0                                0                 0   \n",
       "2                   0                                0                 0   \n",
       "3                   0                                0                 0   \n",
       "4                   0                                0                 0   \n",
       "\n",
       "   P5.ppa WBbt:0007256  P5.pa WBbt:0007252  BDU WBbt:0006826  \\\n",
       "0                    0                   0                 0   \n",
       "1                    0                   0                 0   \n",
       "2                    0                   0                 0   \n",
       "3                    0                   0                 0   \n",
       "4                    0                   0                 0   \n",
       "\n",
       "   vulB2 WBbt:0006764          ...           AVA WBbt:0005842  \\\n",
       "0                   0          ...                          0   \n",
       "1                   0          ...                          0   \n",
       "2                   0          ...                          0   \n",
       "3                   0          ...                          0   \n",
       "4                   0          ...                          0   \n",
       "\n",
       "   AFD WBbt:0005662  digestive tract WBbt:0005743  R6A WBbt:0008395  \\\n",
       "0                 0                             1                 0   \n",
       "1                 0                             1                 0   \n",
       "2                 0                             1                 0   \n",
       "3                 0                             1                 0   \n",
       "4                 0                             0                 0   \n",
       "\n",
       "   P9/10L WBbt:0004412  ABarpaapa WBbt:0005844  MSapap WBbt:0006475  \\\n",
       "0                    0                       0                    0   \n",
       "1                    0                       0                    0   \n",
       "2                    0                       0                    0   \n",
       "3                    0                       0                    0   \n",
       "4                    0                       0                    0   \n",
       "\n",
       "   P6.pap WBbt:0006990  Epr WBbt:0006547  MSpapap WBbt:0005968  \n",
       "0                    0                 0                     0  \n",
       "1                    0                 0                     0  \n",
       "2                    0                 0                     0  \n",
       "3                    0                 0                     0  \n",
       "4                    0                 0                     0  \n",
       "\n",
       "[5 rows x 536 columns]"
      ]
     },
     "execution_count": 59,
     "metadata": {},
     "output_type": "execute_result"
    }
   ],
   "source": [
    "tissue_df.drop('C. elegans Cell and Anatomy WBbt:0000100', axis= 1, inplace= True)\n",
    "tissue_df.drop('Unnamed: 0', axis= 1, inplace= True)\n",
    "tissue_df.head()"
   ]
  },
  {
   "cell_type": "markdown",
   "metadata": {},
   "source": [
    "Quick technical note: We could have placed the dictionary inside the other functions and call them from the inside, but we want you to be able to access the dictionary. Why? Well, you might imagine that you want to get all the genes that are specifically expressed in a tissue, or you may want to take a look at what tissues are included, etc... \n",
    "\n",
    "In other words, we want you to be able to get your hands on this data! It's up to date, it's easy and it works beautifully."
   ]
  },
  {
   "cell_type": "markdown",
   "metadata": {},
   "source": [
    "Now that we have the dictionary, we can run the enrichment analysis. Just so you know what's going on when you call it, the function has the following args.:\n",
    "\n",
    "**enrichment_analysis(gene_list, tissue_df, alpha= 0.05, aname= '', save= False, show= True) **\n",
    "\n",
    "\n",
    "Most of these you can ignore. Mainly, you'll want to assign:\n",
    "\n",
    "**gene_list = your gene list**\n",
    "\n",
    "**tissue_df = the result from fetch_dictionary()**\n",
    "\n",
    "**alpha= your desired q-value threshold**\n",
    "\n",
    "**aname= if you want to save the result to your python interpret, give it a name and complete path**\n",
    "\n",
    "**save= if you want to save your file, you must set this to True**\n",
    "\n",
    "\n",
    "This function returns 2 things:\n",
    "\n",
    "**df_res** -- a dataframe with all the results\n",
    "\n",
    "**unused** -- a list of all the genes that were discarded from the analysis\n",
    "\n",
    "\n",
    "\n",
    "For now, let's jsut run the analysis and show it here:"
   ]
  },
  {
   "cell_type": "code",
   "execution_count": 15,
   "metadata": {
    "collapsed": false
   },
   "outputs": [
    {
     "name": "stdout",
     "output_type": "stream",
     "text": [
      "Executing script\n",
      "\n",
      "                                 Tissue    Expected  Observed Fold Change  \\\n",
      "0                       g1 WBbt:0003712    4.023320        11     2.73406   \n",
      "1                       g2 WBbt:0003710    3.607115        11     3.04953   \n",
      "2          epithelial cell WBbt:0003672  142.897233       176     1.23165   \n",
      "3              socket cell WBbt:0005750   11.931225        26     2.17916   \n",
      "4  anterior ganglion (ant) WBbt:0005372    6.381818        16     2.50712   \n",
      "\n",
      "    Q value  Enrichment Fold Change  \n",
      "0  0.033282                2.734060  \n",
      "1  0.018469                3.049529  \n",
      "2  0.046966                1.231654  \n",
      "3  0.010930                2.179156  \n",
      "4  0.018469                2.507123  \n"
     ]
    }
   ],
   "source": [
    "df_res, unused= hgt.enrichment_analysis(wbids, tissue_df, show= True, save= False)"
   ]
  },
  {
   "cell_type": "markdown",
   "metadata": {},
   "source": [
    "Voila! We got our results. Great! But what if we didn't want to show them?'"
   ]
  },
  {
   "cell_type": "code",
   "execution_count": 16,
   "metadata": {
    "collapsed": false
   },
   "outputs": [
    {
     "name": "stdout",
     "output_type": "stream",
     "text": [
      "Executing script\n",
      "\n"
     ]
    }
   ],
   "source": [
    "df_res, unused= hgt.enrichment_analysis(wbids, tissue_df, show= False, save= False)"
   ]
  },
  {
   "cell_type": "markdown",
   "metadata": {},
   "source": [
    "We could still look at the results by typing df_res.head():"
   ]
  },
  {
   "cell_type": "code",
   "execution_count": 17,
   "metadata": {
    "collapsed": false
   },
   "outputs": [
    {
     "data": {
      "text/html": [
       "<div>\n",
       "<table border=\"1\" class=\"dataframe\">\n",
       "  <thead>\n",
       "    <tr style=\"text-align: right;\">\n",
       "      <th></th>\n",
       "      <th>Tissue</th>\n",
       "      <th>Expected</th>\n",
       "      <th>Observed</th>\n",
       "      <th>Fold Change</th>\n",
       "      <th>Q value</th>\n",
       "      <th>Enrichment Fold Change</th>\n",
       "    </tr>\n",
       "  </thead>\n",
       "  <tbody>\n",
       "    <tr>\n",
       "      <th>0</th>\n",
       "      <td>g1 WBbt:0003712</td>\n",
       "      <td>4.023320</td>\n",
       "      <td>11</td>\n",
       "      <td>2.73406</td>\n",
       "      <td>0.033282</td>\n",
       "      <td>2.734060</td>\n",
       "    </tr>\n",
       "    <tr>\n",
       "      <th>1</th>\n",
       "      <td>g2 WBbt:0003710</td>\n",
       "      <td>3.607115</td>\n",
       "      <td>11</td>\n",
       "      <td>3.04953</td>\n",
       "      <td>0.018469</td>\n",
       "      <td>3.049529</td>\n",
       "    </tr>\n",
       "    <tr>\n",
       "      <th>2</th>\n",
       "      <td>epithelial cell WBbt:0003672</td>\n",
       "      <td>142.897233</td>\n",
       "      <td>176</td>\n",
       "      <td>1.23165</td>\n",
       "      <td>0.046966</td>\n",
       "      <td>1.231654</td>\n",
       "    </tr>\n",
       "    <tr>\n",
       "      <th>3</th>\n",
       "      <td>socket cell WBbt:0005750</td>\n",
       "      <td>11.931225</td>\n",
       "      <td>26</td>\n",
       "      <td>2.17916</td>\n",
       "      <td>0.010930</td>\n",
       "      <td>2.179156</td>\n",
       "    </tr>\n",
       "    <tr>\n",
       "      <th>4</th>\n",
       "      <td>anterior ganglion (ant) WBbt:0005372</td>\n",
       "      <td>6.381818</td>\n",
       "      <td>16</td>\n",
       "      <td>2.50712</td>\n",
       "      <td>0.018469</td>\n",
       "      <td>2.507123</td>\n",
       "    </tr>\n",
       "  </tbody>\n",
       "</table>\n",
       "</div>"
      ],
      "text/plain": [
       "                                 Tissue    Expected  Observed Fold Change  \\\n",
       "0                       g1 WBbt:0003712    4.023320        11     2.73406   \n",
       "1                       g2 WBbt:0003710    3.607115        11     3.04953   \n",
       "2          epithelial cell WBbt:0003672  142.897233       176     1.23165   \n",
       "3              socket cell WBbt:0005750   11.931225        26     2.17916   \n",
       "4  anterior ganglion (ant) WBbt:0005372    6.381818        16     2.50712   \n",
       "\n",
       "    Q value  Enrichment Fold Change  \n",
       "0  0.033282                2.734060  \n",
       "1  0.018469                3.049529  \n",
       "2  0.046966                1.231654  \n",
       "3  0.010930                2.179156  \n",
       "4  0.018469                2.507123  "
      ]
     },
     "execution_count": 17,
     "metadata": {},
     "output_type": "execute_result"
    }
   ],
   "source": [
    "df_res.head()"
   ]
  },
  {
   "cell_type": "markdown",
   "metadata": {},
   "source": [
    "What about the unused genes? Let's see how many of those there are:"
   ]
  },
  {
   "cell_type": "code",
   "execution_count": 18,
   "metadata": {
    "collapsed": false
   },
   "outputs": [
    {
     "name": "stdout",
     "output_type": "stream",
     "text": [
      "4358 were discarded from the analysis\n"
     ]
    }
   ],
   "source": [
    "print('{0} were discarded from the analysis'.format(len(unused)))"
   ]
  },
  {
   "cell_type": "markdown",
   "metadata": {},
   "source": [
    "Ouch! That's a lot! Don't like it? Make GFP reporters and let WormBase know where they are expressed. **Seriously. Do it! You'd be helping the whole community a lot!**"
   ]
  },
  {
   "cell_type": "markdown",
   "metadata": {},
   "source": [
    "Now let's plot the results"
   ]
  },
  {
   "cell_type": "code",
   "execution_count": 23,
   "metadata": {
    "collapsed": false
   },
   "outputs": [
    {
     "data": {
      "image/png": "[encoded data removed]",
      "text/plain": [
       "<matplotlib.figure.Figure at 0x117c480b8>"
      ]
     },
     "metadata": {},
     "output_type": "display_data"
    }
   ],
   "source": [
    "hgt.plot_enrichment_results(df_res, title= 'Exercise', save= False)"
   ]
  },
  {
   "cell_type": "markdown",
   "metadata": {},
   "source": [
    "Voila! We've analyzed our data! Yay! :D"
   ]
  },
  {
   "cell_type": "markdown",
   "metadata": {},
   "source": [
    "If we wanted to save our plot, we would type:"
   ]
  },
  {
   "cell_type": "code",
   "execution_count": null,
   "metadata": {
    "collapsed": true
   },
   "outputs": [],
   "source": [
    "hgt.plot_enrichment_results(df_res, title= 'Exercise', save= True, dirGraphs= 'example_graph_dir/')\n",
    "#This will save the graph in the corresponding directory. If no directory is specified, the graphs will be saved\n",
    "#to the current working directory. "
   ]
  }
 ],
 "metadata": {
  "celltoolbar": "Raw Cell Format",
  "kernelspec": {
   "display_name": "Python 3",
   "language": "python",
   "name": "python3"
  },
  "language_info": {
   "codemirror_mode": {
    "name": "ipython",
    "version": 3
   },
   "file_extension": ".py",
   "mimetype": "text/x-python",
   "name": "python",
   "nbconvert_exporter": "python",
   "pygments_lexer": "ipython3",
   "version": "3.5.1"
  }
 },
 "nbformat": 4,
 "nbformat_minor": 0
}
